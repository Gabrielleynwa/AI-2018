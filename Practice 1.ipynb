{
 "cells": [
  {
   "cell_type": "markdown",
   "metadata": {},
   "source": [
    "# Practice 1"
   ]
  },
  {
   "cell_type": "markdown",
   "metadata": {},
   "source": [
    "1.Create a list of 5 fruits (make sure to include an apple)."
   ]
  },
  {
   "cell_type": "code",
   "execution_count": 12,
   "metadata": {
    "collapsed": true
   },
   "outputs": [],
   "source": [
    "fruits = ['apple', 'pear', 'orange', 'pinapple', 'mandarin']"
   ]
  },
  {
   "cell_type": "markdown",
   "metadata": {},
   "source": [
    "2.Go through each fruit and check if it is an apple. If it is, print out \"I found it!\". If it's not an apple, do nothing."
   ]
  },
  {
   "cell_type": "code",
   "execution_count": 21,
   "metadata": {
    "collapsed": false,
    "scrolled": false
   },
   "outputs": [
    {
     "name": "stdout",
     "output_type": "stream",
     "text": [
      "apple\n",
      " I found it!\n",
      "pear\n",
      "orange\n",
      "pinapple\n",
      "mandarin\n",
      "bannana\n",
      "kiwi\n"
     ]
    }
   ],
   "source": [
    "for i in fruits:\n",
    "    print(i)\n",
    "    if i == 'apple':\n",
    "      print(\" I found it!\")"
   ]
  },
  {
   "cell_type": "markdown",
   "metadata": {},
   "source": [
    "3.Add two new fruits to your list."
   ]
  },
  {
   "cell_type": "code",
   "execution_count": 14,
   "metadata": {
    "collapsed": false,
    "scrolled": false
   },
   "outputs": [
    {
     "data": {
      "text/plain": [
       "['apple', 'pear', 'orange', 'pinapple', 'mandarin', 'bannana', 'kiwi']"
      ]
     },
     "execution_count": 14,
     "metadata": {},
     "output_type": "execute_result"
    }
   ],
   "source": [
    "fruits.append('bannana')\n",
    "fruits.append('kiwi')\n",
    "fruits"
   ]
  },
  {
   "cell_type": "markdown",
   "metadata": {},
   "source": [
    "4.Create a new empty list. Go through your list of fruits, and for each one, add an entry to the new list that tells us how many letters each fruit name is."
   ]
  },
  {
   "cell_type": "code",
   "execution_count": 25,
   "metadata": {
    "collapsed": false
   },
   "outputs": [
    {
     "name": "stdout",
     "output_type": "stream",
     "text": [
      "apple has 5 letters \n",
      "pear has 4 letters \n",
      "orange has 6 letters \n",
      "pinapple has 8 letters \n",
      "mandarin has 8 letters \n",
      "bannana has 7 letters \n",
      "kiwi has 4 letters \n"
     ]
    }
   ],
   "source": [
    "letter = list()\n",
    "for i in fruits:\n",
    "    a = i+' has '+str(len(i))+' letters '\n",
    "    letter.append(a)\n",
    "for i in letter:\n",
    "    print(i)"
   ]
  },
  {
   "cell_type": "markdown",
   "metadata": {},
   "source": [
    "5.Make a function called half_squared that takes a list and returns a new list where each element of the original is squared and then divided in half."
   ]
  },
  {
   "cell_type": "code",
   "execution_count": 36,
   "metadata": {
    "collapsed": true
   },
   "outputs": [],
   "source": [
    "def half_squared(list):\n",
    "    nl = []\n",
    "    for i in list:\n",
    "        j = pow(i,2)/2\n",
    "        nl.append(j)\n",
    "    return nl"
   ]
  },
  {
   "cell_type": "code",
   "execution_count": 37,
   "metadata": {
    "collapsed": false
   },
   "outputs": [
    {
     "data": {
      "text/plain": [
       "True"
      ]
     },
     "execution_count": 37,
     "metadata": {},
     "output_type": "execute_result"
    }
   ],
   "source": [
    "## test the function\n",
    "half_squared([3,3]) == [4.5,4.5]"
   ]
  },
  {
   "cell_type": "markdown",
   "metadata": {},
   "source": [
    "6.What does the following program print? And you can input two number in the program to verify your answer. What does the program do?"
   ]
  },
  {
   "cell_type": "code",
   "execution_count": 38,
   "metadata": {
    "collapsed": false
   },
   "outputs": [
    {
     "name": "stdout",
     "output_type": "stream",
     "text": [
      "input first number: 15\n",
      "input second number: 78\n",
      "78\n"
     ]
    }
   ],
   "source": [
    "a = int(input(\"input first number: \"))\n",
    "b = int(input(\"input second number: \"))\n",
    "if(a > b):\n",
    "    print(a)\n",
    "else:\n",
    "    print(b)"
   ]
  },
  {
   "cell_type": "markdown",
   "metadata": {},
   "source": [
    "This program prints the larger number between the 2 input numbers. It obtains 2 numbers from the user and then return the larger one."
   ]
  },
  {
   "cell_type": "markdown",
   "metadata": {},
   "source": [
    "Now practice writing a program that takes as input some students scores and then outputs a grade (A, B, C).If scores >=90 points are represented by A, 60-89 points are represented by B, and 60 points or less are indicated by C.If the input student score is less than 0 greater than 100, make an error message for the user."
   ]
  },
  {
   "cell_type": "code",
   "execution_count": 61,
   "metadata": {
    "collapsed": false
   },
   "outputs": [
    {
     "name": "stdout",
     "output_type": "stream",
     "text": [
      "Input some students scores: 110\n",
      "Error\n"
     ]
    }
   ],
   "source": [
    "scores = int(input(\"Input some students scores: \"))\n",
    "if scores>=0 and scores<=100:\n",
    "        if scores >= 90:\n",
    "            print('Grade A')\n",
    "        elif scores>60 and scores<=89 :\n",
    "            print('Grade B')\n",
    "        elif scores<=60:\n",
    "            print('Grade C')\n",
    "else:\n",
    "       print('Error')"
   ]
  },
  {
   "cell_type": "markdown",
   "metadata": {},
   "source": [
    "7.Now using what we just learned try to write a program to take 3 numbers as input and sort them from large to small.For example revSort(12, 4, 32) will return (32, 12, 4)\n"
   ]
  },
  {
   "cell_type": "code",
   "execution_count": 73,
   "metadata": {
    "collapsed": false
   },
   "outputs": [],
   "source": [
    "def revSort(a,b,c):\n",
    "    if a<b:\n",
    "        a,b = b,a\n",
    "    if b<c:\n",
    "        b,c = c,b\n",
    "    if a<b:\n",
    "        a,b = b,a\n",
    "    return a,b,c"
   ]
  },
  {
   "cell_type": "code",
   "execution_count": 74,
   "metadata": {
    "collapsed": false
   },
   "outputs": [
    {
     "data": {
      "text/plain": [
       "(32, 12, 4)"
      ]
     },
     "execution_count": 74,
     "metadata": {},
     "output_type": "execute_result"
    }
   ],
   "source": [
    "revSort(12,4,32)"
   ]
  },
  {
   "cell_type": "markdown",
   "metadata": {},
   "source": [
    "8.We have created a two-dimensional array through the above progrem,can you traverse this two-dimensional array?"
   ]
  },
  {
   "cell_type": "code",
   "execution_count": 93,
   "metadata": {
    "collapsed": false
   },
   "outputs": [],
   "source": [
    "def traverse(array):\n",
    "    for lst in array:\n",
    "        for i in lst:\n",
    "            print(i)\n"
   ]
  },
  {
   "cell_type": "code",
   "execution_count": 94,
   "metadata": {
    "collapsed": false
   },
   "outputs": [
    {
     "name": "stdout",
     "output_type": "stream",
     "text": [
      "1\n",
      "2\n",
      "3\n",
      "4\n",
      "5\n",
      "6\n"
     ]
    }
   ],
   "source": [
    "arrys = [[1,2,3],[4,5,6]]\n",
    "traverse(array)"
   ]
  },
  {
   "cell_type": "markdown",
   "metadata": {},
   "source": [
    "9.Observe the following phenomenon: calulate the cube of some number (e.g., 1, 8, 17) , the sum of all digits in this cube equals to the number itself.（the max num is 100,and you should use the map function from above）"
   ]
  },
  {
   "cell_type": "code",
   "execution_count": 132,
   "metadata": {
    "collapsed": false
   },
   "outputs": [
    {
     "name": "stdout",
     "output_type": "stream",
     "text": [
      "1\n",
      "8\n",
      "17\n",
      "18\n",
      "26\n",
      "27\n"
     ]
    }
   ],
   "source": [
    "a = range(1,101)\n",
    "def f(n):\n",
    "    left = n**3\n",
    "    lst = []\n",
    "    while (left>0):\n",
    "        lst.append(left%10)\n",
    "        left=left//10\n",
    "    sum = 0\n",
    "    for i in lst:\n",
    "        sum += i\n",
    "    if sum == n:\n",
    "        return(n)\n",
    "for i in map(f,a):\n",
    "    if i != None:\n",
    "        print(i)"
   ]
  },
  {
   "cell_type": "markdown",
   "metadata": {},
   "source": [
    "10.Use the random module to generate two random integers x, y (1-10) and print them value, then exchange them value each other,and print them."
   ]
  },
  {
   "cell_type": "code",
   "execution_count": 155,
   "metadata": {
    "collapsed": false
   },
   "outputs": [
    {
     "name": "stdout",
     "output_type": "stream",
     "text": [
      "4\n",
      "10\n"
     ]
    }
   ],
   "source": [
    "import random\n",
    "x = random.randint(1,10)\n",
    "y = random.randint(1,10)\n",
    "print(x)\n",
    "print(y)"
   ]
  },
  {
   "cell_type": "code",
   "execution_count": 156,
   "metadata": {
    "collapsed": false
   },
   "outputs": [
    {
     "name": "stdout",
     "output_type": "stream",
     "text": [
      "10\n",
      "4\n"
     ]
    }
   ],
   "source": [
    "x,y = y,x\n",
    "print(x)\n",
    "print(y)"
   ]
  },
  {
   "cell_type": "markdown",
   "metadata": {},
   "source": [
    "11.Please look at the following rules, code output,you can just use the print() without othething,but we will give the loop nesting code to print the diamond."
   ]
  },
  {
   "cell_type": "code",
   "execution_count": 157,
   "metadata": {
    "collapsed": false
   },
   "outputs": [
    {
     "name": "stdout",
     "output_type": "stream",
     "text": [
      "   *   \n",
      "  ***  \n",
      " ***** \n",
      "*******\n",
      " ***** \n",
      "  ***  \n",
      "   *   \n"
     ]
    }
   ],
   "source": [
    "s = '*'\n",
    "for i in range(1, 8, 2):\n",
    "    print((s*i).center(7))\n",
    "for i in reversed(range(1, 6, 2)):\n",
    "    print((s*i).center(7))"
   ]
  },
  {
   "cell_type": "markdown",
   "metadata": {},
   "source": [
    "12.Please look at the following rules, Using for loop nested output."
   ]
  },
  {
   "cell_type": "code",
   "execution_count": 174,
   "metadata": {
    "collapsed": false
   },
   "outputs": [
    {
     "name": "stdout",
     "output_type": "stream",
     "text": [
      "123456\n",
      "234561\n",
      "345612\n",
      "456123\n",
      "561234\n",
      "612345\n"
     ]
    }
   ],
   "source": [
    "for i in range(0,6):\n",
    "    for j in range(i,i+6):\n",
    "            print(j%6+1,end=\"\")\n",
    "            j+=1\n",
    "    print()"
   ]
  },
  {
   "cell_type": "markdown",
   "metadata": {},
   "source": [
    "13.Use the for loop to slice the list ,and the first letter of the output list is capitalized. "
   ]
  },
  {
   "cell_type": "code",
   "execution_count": 186,
   "metadata": {
    "collapsed": false
   },
   "outputs": [
    {
     "name": "stdout",
     "output_type": "stream",
     "text": [
      "['charles']\n",
      "['martina']\n",
      "['michael']\n",
      "['florence']\n",
      "['eli']\n",
      "['charles', 'martina']\n",
      "['martina', 'michael']\n",
      "['michael', 'florence']\n",
      "['florence', 'eli']\n",
      "['charles', 'martina', 'michael']\n",
      "['martina', 'michael', 'florence']\n",
      "['michael', 'florence', 'eli']\n",
      "['charles', 'martina', 'michael', 'florence']\n",
      "['martina', 'michael', 'florence', 'eli']\n",
      "['charles', 'martina', 'michael', 'florence', 'eli']\n"
     ]
    }
   ],
   "source": [
    "players = ['charles','martina','michael','florence','eli']\n",
    "for n in range(1,6):\n",
    "    for i in range(1,7-n):\n",
    "        print(players[i-1:i-1+n])"
   ]
  }
 ],
 "metadata": {
  "kernelspec": {
   "display_name": "Python 3",
   "language": "python",
   "name": "python3"
  },
  "language_info": {
   "codemirror_mode": {
    "name": "ipython",
    "version": 3
   },
   "file_extension": ".py",
   "mimetype": "text/x-python",
   "name": "python",
   "nbconvert_exporter": "python",
   "pygments_lexer": "ipython3",
   "version": "3.6.0"
  }
 },
 "nbformat": 4,
 "nbformat_minor": 2
}
