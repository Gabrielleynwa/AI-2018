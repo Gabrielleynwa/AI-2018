{
 "cells": [
  {
   "cell_type": "markdown",
   "metadata": {},
   "source": [
    "# Practical 2"
   ]
  },
  {
   "cell_type": "markdown",
   "metadata": {},
   "source": [
    "### Theory Questions "
   ]
  },
  {
   "cell_type": "markdown",
   "metadata": {},
   "source": [
    "1.What is an algorithm? A sequence of steps such as a recipe or a movie script."
   ]
  },
  {
   "cell_type": "markdown",
   "metadata": {
    "collapsed": true
   },
   "source": []
  },
  {
   "cell_type": "markdown",
   "metadata": {},
   "source": [
    "2.A farmer with his wolf, duck and bag of corn come to the east side of a river they wish to cross. There is a boat at the rivers edge, but of course only the farmer can row. The boat can only hold two things (including the rower) at any one time. If the wolf is ever left alone with the duck, the wolf will eat it. Similarly if the duck is ever left alone with the corn, the duck will eat it. How can the farmer get across the river so that all four arrive safely on the other side?"
   ]
  },
  {
   "cell_type": "markdown",
   "metadata": {},
   "source": [
    "1)The farmer with his duck gets across the river."
   ]
  },
  {
   "cell_type": "markdown",
   "metadata": {},
   "source": [
    "2)Leave the duck at the west side. The farmer gets back to the east side."
   ]
  },
  {
   "cell_type": "markdown",
   "metadata": {},
   "source": [
    "3)The farmer with his wolf gets across the river."
   ]
  },
  {
   "cell_type": "markdown",
   "metadata": {},
   "source": [
    "4)Leave the wolf at the west side. The farmer with his duck gets back to the east side."
   ]
  },
  {
   "cell_type": "markdown",
   "metadata": {},
   "source": [
    "5)Leave the duck at the east side. The farmer with his bag of corn gets across the river."
   ]
  },
  {
   "cell_type": "markdown",
   "metadata": {},
   "source": [
    "6)Leave the bag of corn at the west side with the wolf. The farmer gets back to the east side alone."
   ]
  },
  {
   "cell_type": "markdown",
   "metadata": {},
   "source": [
    "7)The farmer with his duck gets across the river."
   ]
  },
  {
   "cell_type": "markdown",
   "metadata": {},
   "source": [
    "3.Explain why we determine our problem goals before we write the problem formulation (including the model and deciding what algorithm or techniques to use - for example search, or other method)."
   ]
  },
  {
   "cell_type": "markdown",
   "metadata": {},
   "source": []
  },
  {
   "cell_type": "markdown",
   "metadata": {},
   "source": [
    "4.1.Simulate (on pencil-and-paper) breadth-first search starting from node A when the goal node is K."
   ]
  },
  {
   "cell_type": "markdown",
   "metadata": {},
   "source": []
  },
  {
   "cell_type": "markdown",
   "metadata": {},
   "source": [
    "4.2.Simulate (on pencil-and-paper) depth first search starting from node A when the goal node is I."
   ]
  },
  {
   "cell_type": "markdown",
   "metadata": {},
   "source": []
  },
  {
   "cell_type": "markdown",
   "metadata": {},
   "source": [
    "5.Consider a state space where the start state is number 1 and each state k has two successors: numbers 2k and 2k + 1."
   ]
  },
  {
   "cell_type": "markdown",
   "metadata": {},
   "source": [
    "a. Draw the portion of the state space for states 1 to 15."
   ]
  },
  {
   "cell_type": "markdown",
   "metadata": {},
   "source": []
  },
  {
   "cell_type": "markdown",
   "metadata": {},
   "source": [
    "b.Suppose the goal state is 11. List the order in which nodes will be visited for breadthfirst search, depth-limited search with limit 3, and iterative deepening search."
   ]
  },
  {
   "cell_type": "markdown",
   "metadata": {},
   "source": []
  },
  {
   "cell_type": "markdown",
   "metadata": {},
   "source": [
    "c.How well would bidirectional search work on this problem? What is the branching factor in each direction of the bidirectional search?"
   ]
  },
  {
   "cell_type": "markdown",
   "metadata": {},
   "source": []
  },
  {
   "cell_type": "markdown",
   "metadata": {},
   "source": [
    "d.Does the answer to (c) suggest a reformulation of the problem that would allow you to solve the problem of getting from state 1 to a given goal state with almost no search?"
   ]
  },
  {
   "cell_type": "markdown",
   "metadata": {},
   "source": []
  },
  {
   "cell_type": "markdown",
   "metadata": {},
   "source": [
    "e.Call the action going from k to 2k Left, and the action going to 2k + 1 Right. Can you find an algorithm that outputs the solution to this problem without any search at all?"
   ]
  },
  {
   "cell_type": "markdown",
   "metadata": {},
   "source": []
  },
  {
   "cell_type": "markdown",
   "metadata": {},
   "source": [
    "### Programming Excercises"
   ]
  },
  {
   "cell_type": "markdown",
   "metadata": {},
   "source": [
    "1.Write a program to solve a classic ancient Chinese puzzle:\n",
    "We count 35 heads and 94 legs among the chickens and rabbits in a farm. How many rabbits and how many chickens do we have?"
   ]
  },
  {
   "cell_type": "code",
   "execution_count": null,
   "metadata": {
    "collapsed": false
   },
   "outputs": [],
   "source": [
    "for chickens in range(0,36):\n",
    "    rabbits = 35 - chickens\n",
    "    legs = 4*rabbits + 2*chickens\n",
    "    if legs == 94:\n",
    "        print(\"We have %d rabbits and %d chickens.\" % (rabbits, chickens))\n",
    "        break"
   ]
  },
  {
   "cell_type": "markdown",
   "metadata": {},
   "source": [
    "2.Social networking Please look at the graph below of social relationships. You have a mango farm, you need to find a mango buyer and sell him your mango that you have grown (just a small farm). To this end, our principle is to use our social network of friends separated by one degree, and then second degree friends (friends of friends), third degree friends (friends of friends of friends)."
   ]
  },
  {
   "cell_type": "code",
   "execution_count": null,
   "metadata": {
    "collapsed": true
   },
   "outputs": [],
   "source": []
  },
  {
   "cell_type": "markdown",
   "metadata": {},
   "source": [
    "3.Depth First traverse：Use depth first traversal to traverse all the DLL files on the C disk and output the file names."
   ]
  },
  {
   "cell_type": "code",
   "execution_count": null,
   "metadata": {
    "collapsed": false
   },
   "outputs": [],
   "source": [
    "import os\n",
    "\n",
    "def DFS(path):\n",
    "    stack = []\n",
    "    stack.append(path);\n",
    "    while len(stack) > 0:\n",
    "        try:\n",
    "            tmp = stack.pop(len(stack) - 1)\n",
    "            if (os.path.isdir(tmp)):\n",
    "                for item in os.listdir(tmp):\n",
    "                    stack.append(os.path.join(tmp, item))\n",
    "            elif (os.path.splitext(tmp)[-1]==\".dll\"):\n",
    "                print(os.path.split(tmp)[-1])\n",
    "        except:\n",
    "            continue\n",
    "\n",
    "path = \"C:\\\\\"\n",
    "DFS(path)"
   ]
  },
  {
   "cell_type": "markdown",
   "metadata": {},
   "source": [
    "Update your code to search for a particular filename."
   ]
  },
  {
   "cell_type": "code",
   "execution_count": null,
   "metadata": {
    "collapsed": false
   },
   "outputs": [],
   "source": [
    "def DFS(path,name):\n",
    "    stack = []\n",
    "    stack.append(path);\n",
    "    while len(stack) > 0:\n",
    "        try:\n",
    "            tmp = stack.pop(len(stack) - 1)\n",
    "            if (os.path.isdir(tmp)):\n",
    "                for item in os.listdir(tmp):\n",
    "                    stack.append(os.path.join(tmp, item))\n",
    "            elif (os.path.split(tmp)[-1]==name):\n",
    "                print(tmp)\n",
    "        except:\n",
    "            continue\n",
    "\n",
    "name = \"cosquery.dll\"\n",
    "DFS(path,name)"
   ]
  },
  {
   "cell_type": "markdown",
   "metadata": {},
   "source": [
    "What protocol did you use to select the next node to expand on the fringe?"
   ]
  },
  {
   "cell_type": "markdown",
   "metadata": {},
   "source": []
  },
  {
   "cell_type": "markdown",
   "metadata": {},
   "source": [
    "4.Breadth First traverse：Use breadth traversal to traverse all the DLL files on the C disk and output the filename."
   ]
  },
  {
   "cell_type": "code",
   "execution_count": null,
   "metadata": {
    "collapsed": false
   },
   "outputs": [],
   "source": [
    "def BFS(path):\n",
    "    queue = []\n",
    "    queue.append(path);\n",
    "    while len(queue) > 0:\n",
    "        tmp = queue.pop(0)\n",
    "        if (os.path.isdir(tmp)):\n",
    "            for item in os.listdir(tmp):\n",
    "                queue.append(os.path.join(tmp, item))\n",
    "        elif os.path.splitext(tmp)[-1]==\".dll\":\n",
    "            print(os.path.split(tmp)[-1])\n",
    "\n",
    "BFS(path)"
   ]
  },
  {
   "cell_type": "markdown",
   "metadata": {},
   "source": [
    "Update your code to search for a particular filename."
   ]
  },
  {
   "cell_type": "code",
   "execution_count": null,
   "metadata": {
    "collapsed": true
   },
   "outputs": [],
   "source": [
    "def BFS(path,name):\n",
    "    queue = []\n",
    "    queue.append(path);\n",
    "    while len(queue) > 0:\n",
    "        try:\n",
    "            tmp = queue.pop(0)\n",
    "            if (os.path.isdir(tmp)):\n",
    "                for item in os.listdir(tmp):\n",
    "                    queue.append(os.path.join(tmp, item))\n",
    "            elif os.path.split(tmp)[-1]==name:\n",
    "                print(tmp)\n",
    "        except:\n",
    "            continue\n",
    "\n",
    "BFS(path,name)"
   ]
  },
  {
   "cell_type": "markdown",
   "metadata": {},
   "source": []
  }
 ],
 "metadata": {
  "kernelspec": {
   "display_name": "Python 3",
   "language": "python",
   "name": "python3"
  },
  "language_info": {
   "codemirror_mode": {
    "name": "ipython",
    "version": 3
   },
   "file_extension": ".py",
   "mimetype": "text/x-python",
   "name": "python",
   "nbconvert_exporter": "python",
   "pygments_lexer": "ipython3",
   "version": "3.6.0"
  }
 },
 "nbformat": 4,
 "nbformat_minor": 2
}
